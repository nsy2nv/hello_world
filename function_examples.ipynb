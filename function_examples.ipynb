{
  "nbformat": 4,
  "nbformat_minor": 0,
  "metadata": {
    "colab": {
      "provenance": [],
      "authorship_tag": "ABX9TyOaVIm/QAbeHa037uosHE20",
      "include_colab_link": true
    },
    "kernelspec": {
      "name": "python3",
      "display_name": "Python 3"
    },
    "language_info": {
      "name": "python"
    }
  },
  "cells": [
    {
      "cell_type": "markdown",
      "metadata": {
        "id": "view-in-github",
        "colab_type": "text"
      },
      "source": [
        "<a href=\"https://colab.research.google.com/github/nsy2nv/hello_world/blob/master/function_examples.ipynb\" target=\"_parent\"><img src=\"https://colab.research.google.com/assets/colab-badge.svg\" alt=\"Open In Colab\"/></a>"
      ]
    },
    {
      "cell_type": "code",
      "execution_count": 14,
      "metadata": {
        "id": "S9gnGGj-Rbix"
      },
      "outputs": [],
      "source": [
        "def func0(n):\n",
        "  if n == 0:\n",
        "     return 1\n",
        "  #else:\n",
        "     return func0(n-1) +5"
      ]
    },
    {
      "cell_type": "code",
      "source": [
        "func0_test = func0(10)\n",
        "print('func0 test is :',func0_test)"
      ],
      "metadata": {
        "colab": {
          "base_uri": "https://localhost:8080/"
        },
        "id": "BPHc5c6CSgVS",
        "outputId": "38ddc54d-9781-4275-e8c4-6d30fe55b4b9"
      },
      "execution_count": 15,
      "outputs": [
        {
          "output_type": "stream",
          "name": "stdout",
          "text": [
            "func0 test is : None\n"
          ]
        }
      ]
    },
    {
      "cell_type": "code",
      "source": [
        "def func1(n):\n",
        "    i = 1\n",
        "    while i < n:\n",
        "        i = i*2\n",
        "        print(i)"
      ],
      "metadata": {
        "id": "tm8xJKnKZdpZ"
      },
      "execution_count": 23,
      "outputs": []
    },
    {
      "cell_type": "code",
      "source": [
        "func1_test = func1(10)\n",
        "print('func1 test is :', func1)"
      ],
      "metadata": {
        "id": "pgf0Zud6Z6lr"
      },
      "execution_count": null,
      "outputs": []
    },
    {
      "cell_type": "code",
      "source": [
        "def func2(n):\n",
        "    if n == 1:\n",
        "        return False\n",
        "    i = 2\n",
        "    while i*i <= n:\n",
        "        if n % i  == 0:\n",
        "            return False\n",
        "        i+=1\n",
        "    return True"
      ],
      "metadata": {
        "id": "ogYtMLNZbdW7"
      },
      "execution_count": 20,
      "outputs": []
    },
    {
      "cell_type": "code",
      "source": [
        "func2_test = func2(8)\n",
        "print('func2 test is :', func2)"
      ],
      "metadata": {
        "colab": {
          "base_uri": "https://localhost:8080/"
        },
        "id": "3h6stdbgdLY1",
        "outputId": "264b3184-50ae-4d9e-d205-d528a625231a"
      },
      "execution_count": 25,
      "outputs": [
        {
          "output_type": "stream",
          "name": "stdout",
          "text": [
            "func2 test is : <function func2 at 0x7d49d3411870>\n"
          ]
        }
      ]
    }
  ]
}