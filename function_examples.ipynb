{
  "nbformat": 4,
  "nbformat_minor": 0,
  "metadata": {
    "colab": {
      "provenance": [],
      "authorship_tag": "ABX9TyM2PehRtJsPQRJN0aMgzX3R",
      "include_colab_link": true
    },
    "kernelspec": {
      "name": "python3",
      "display_name": "Python 3"
    },
    "language_info": {
      "name": "python"
    }
  },
  "cells": [
    {
      "cell_type": "markdown",
      "metadata": {
        "id": "view-in-github",
        "colab_type": "text"
      },
      "source": [
        "<a href=\"https://colab.research.google.com/github/nsy2nv/hello_world/blob/master/function_examples.ipynb\" target=\"_parent\"><img src=\"https://colab.research.google.com/assets/colab-badge.svg\" alt=\"Open In Colab\"/></a>"
      ]
    },
    {
      "cell_type": "code",
      "execution_count": null,
      "metadata": {
        "id": "S9gnGGj-Rbix"
      },
      "outputs": [],
      "source": [
        "def func0(n):\n",
        "  if n == 0:\n",
        "     return 1\n",
        "  #else:\n",
        "     return func0(n-1) +5"
      ]
    },
    {
      "cell_type": "code",
      "source": [
        "func0_test = func0(10)\n",
        "print('func0 test is :',func0_test)"
      ],
      "metadata": {
        "colab": {
          "base_uri": "https://localhost:8080/"
        },
        "id": "BPHc5c6CSgVS",
        "outputId": "38ddc54d-9781-4275-e8c4-6d30fe55b4b9"
      },
      "execution_count": null,
      "outputs": [
        {
          "output_type": "stream",
          "name": "stdout",
          "text": [
            "func0 test is : None\n"
          ]
        }
      ]
    },
    {
      "cell_type": "code",
      "source": [
        "def func1(n):\n",
        "    i = 1\n",
        "    while i < n:\n",
        "        i = i*2\n",
        "        print(i)"
      ],
      "metadata": {
        "id": "tm8xJKnKZdpZ"
      },
      "execution_count": null,
      "outputs": []
    },
    {
      "cell_type": "code",
      "source": [
        "func1_test = func1(10)\n",
        "print('func1 test is :', func1)"
      ],
      "metadata": {
        "id": "pgf0Zud6Z6lr"
      },
      "execution_count": null,
      "outputs": []
    },
    {
      "cell_type": "code",
      "source": [
        "def func2(n):\n",
        "    if n == 1:\n",
        "        return False\n",
        "    i = 2\n",
        "    while i*i <= n:\n",
        "        if n % i  == 0:\n",
        "            return False\n",
        "        i+=1\n",
        "    return True"
      ],
      "metadata": {
        "id": "ogYtMLNZbdW7"
      },
      "execution_count": null,
      "outputs": []
    },
    {
      "cell_type": "code",
      "source": [
        "func2_test = func2(8)\n",
        "print('func2 test is :', func2)"
      ],
      "metadata": {
        "colab": {
          "base_uri": "https://localhost:8080/"
        },
        "id": "3h6stdbgdLY1",
        "outputId": "264b3184-50ae-4d9e-d205-d528a625231a"
      },
      "execution_count": null,
      "outputs": [
        {
          "output_type": "stream",
          "name": "stdout",
          "text": [
            "func2 test is : <function func2 at 0x7d49d3411870>\n"
          ]
        }
      ]
    },
    {
      "cell_type": "code",
      "source": [
        "import string\n",
        "string.punctuation"
      ],
      "metadata": {
        "id": "OK9AAEsP16wz",
        "outputId": "371f6edb-a189-424b-e6cd-7e3aebe5e34b",
        "colab": {
          "base_uri": "https://localhost:8080/",
          "height": 35
        }
      },
      "execution_count": 2,
      "outputs": [
        {
          "output_type": "execute_result",
          "data": {
            "text/plain": [
              "'!\"#$%&\\'()*+,-./:;<=>?@[\\\\]^_`{|}~'"
            ],
            "application/vnd.google.colaboratory.intrinsic+json": {
              "type": "string"
            }
          },
          "metadata": {},
          "execution_count": 2
        }
      ]
    },
    {
      "cell_type": "code",
      "source": [
        "text = 'This function removes punctuations from text data' + string.punctuation"
      ],
      "metadata": {
        "id": "dgvmPRgG2RJe"
      },
      "execution_count": 7,
      "outputs": []
    },
    {
      "cell_type": "code",
      "source": [
        "print(text)"
      ],
      "metadata": {
        "id": "iRqrTygW4Zsn",
        "outputId": "f156ab21-9a7a-4938-dac2-784e6d6e0c9f",
        "colab": {
          "base_uri": "https://localhost:8080/"
        }
      },
      "execution_count": 10,
      "outputs": [
        {
          "output_type": "stream",
          "name": "stdout",
          "text": [
            "This function removes punctuations from text data!\"#$%&'()*+,-./:;<=>?@[\\]^_`{|}~\n"
          ]
        }
      ]
    },
    {
      "cell_type": "code",
      "source": [
        "def remove_punctuations(text):\n",
        "    import string\n",
        "    for punctuation in string.punctuation:\n",
        "        text = text.replace(punctuation, '')\n",
        "    return text\n",
        "clean_text = remove_punctuations(text)"
      ],
      "metadata": {
        "id": "YI49FwwK1rqE"
      },
      "execution_count": 8,
      "outputs": []
    },
    {
      "cell_type": "code",
      "source": [
        "print(clean_text)"
      ],
      "metadata": {
        "id": "loSAcKro4ndO",
        "outputId": "a8e45405-f487-4bf2-f23b-6a6cb8cb312c",
        "colab": {
          "base_uri": "https://localhost:8080/"
        }
      },
      "execution_count": 11,
      "outputs": [
        {
          "output_type": "stream",
          "name": "stdout",
          "text": [
            "This function removes punctuations from text data\n"
          ]
        }
      ]
    },
    {
      "cell_type": "code",
      "source": [
        "import re"
      ],
      "metadata": {
        "id": "7Aq6Kn256LJE"
      },
      "execution_count": 12,
      "outputs": []
    },
    {
      "cell_type": "code",
      "source": [
        "def remove_special_characters(text):\n",
        "    text = re.sub('[^a-zA-z0-9\\s]', '', text)\n",
        "    return text"
      ],
      "metadata": {
        "id": "hHdMqf5x6HOd"
      },
      "execution_count": 13,
      "outputs": []
    },
    {
      "cell_type": "code",
      "source": [
        "def remove_html(text):\n",
        "    import re\n",
        "    html_pattern = re.compile('<.*?>')\n",
        "    return html_pattern.sub(r' ', text)"
      ],
      "metadata": {
        "id": "kiElqtZ26XrX"
      },
      "execution_count": 14,
      "outputs": []
    },
    {
      "cell_type": "code",
      "source": [
        "def remove_URL(text):\n",
        "    url = re.compile(r'https?://\\S+|www\\.\\S+')\n",
        "    return url.sub(r' ',text)"
      ],
      "metadata": {
        "id": "m0QiMEFj6nd5"
      },
      "execution_count": 15,
      "outputs": []
    }
  ]
}